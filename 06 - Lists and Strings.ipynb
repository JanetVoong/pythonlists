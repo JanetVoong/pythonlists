{
 "cells": [
  {
   "cell_type": "markdown",
   "metadata": {},
   "source": [
    "Unit 1 - Lists and Strings - lesson slides: https://docs.google.com/presentation/d/1r3wUngYQb0_zTi7m387eMBlInS15VNtcPA66cnKbfZo/edit#slide=id.g1cce80a6f7_0_5\n",
    "\n",
    "random functions:\n",
    "- import random\n",
    "- random.choice\n",
    "- randint\n",
    "- randrange"
   ]
  },
  {
   "cell_type": "markdown",
   "metadata": {},
   "source": [
    "# Python Programming"
   ]
  },
  {
   "cell_type": "markdown",
   "metadata": {},
   "source": [
    "## Lists and Loops"
   ]
  },
  {
   "cell_type": "code",
   "execution_count": 1,
   "metadata": {},
   "outputs": [
    {
     "name": "stdout",
     "output_type": "stream",
     "text": [
      "ana\n",
      "ben\n",
      "carli\n",
      "dee\n",
      "elaine\n",
      "fred\n",
      "gustas\n"
     ]
    }
   ],
   "source": [
    "myList = [\"ana\", \"ben\", \"carli\", \"dee\", \"elaine\", \"fred\", \"gustas\"]\n",
    "\n",
    "#this will print out all of the elements in a list\n",
    "\n",
    "for i in range(len(myList)):\n",
    "    print(myList[i])"
   ]
  },
  {
   "cell_type": "code",
   "execution_count": 2,
   "metadata": {},
   "outputs": [
    {
     "name": "stdout",
     "output_type": "stream",
     "text": [
      "a\n",
      "b\n",
      "c\n",
      "d\n",
      "e\n",
      "f\n",
      "g\n"
     ]
    }
   ],
   "source": [
    "myList = [\"ana\", \"ben\", \"carli\", \"dee\", \"elaine\", \"fred\", \"gustas\"]\n",
    "\n",
    "#this will print out the first letter of each string in that list\n",
    "\n",
    "for i in range(len(myList)):\n",
    "    print(myList[i][0])"
   ]
  },
  {
   "cell_type": "markdown",
   "metadata": {},
   "source": [
    "### Tasks"
   ]
  },
  {
   "cell_type": "markdown",
   "metadata": {},
   "source": [
    "#### print values with EVEN array index values"
   ]
  },
  {
   "cell_type": "code",
   "execution_count": 3,
   "metadata": {},
   "outputs": [
    {
     "name": "stdout",
     "output_type": "stream",
     "text": [
      "ana\n",
      "carli\n",
      "elaine\n",
      "gustas\n"
     ]
    }
   ],
   "source": [
    "myList = [\"ana\", \"ben\", \"carli\", \"dee\", \"elaine\", \"fred\", \"gustas\"]\n",
    "\n",
    "for i in range(len(myList)):\n",
    "    if i%2 == 0:\n",
    "        print(myList[i])"
   ]
  },
  {
   "cell_type": "markdown",
   "metadata": {},
   "source": [
    "#### randomly pick one “box” and print its value"
   ]
  },
  {
   "cell_type": "code",
   "execution_count": 13,
   "metadata": {},
   "outputs": [
    {
     "name": "stdout",
     "output_type": "stream",
     "text": [
      "ben\n"
     ]
    }
   ],
   "source": [
    "import random\n",
    "myList = [\"ana\", \"ben\", \"carli\", \"dee\", \"elaine\", \"fred\", \"gustas\"]\n",
    "print(random.choice(myList))"
   ]
  },
  {
   "cell_type": "markdown",
   "metadata": {},
   "source": [
    "#### use a for loop backwards to print a list backwards"
   ]
  },
  {
   "cell_type": "code",
   "execution_count": 5,
   "metadata": {},
   "outputs": [
    {
     "name": "stdout",
     "output_type": "stream",
     "text": [
      "gustas\n",
      "fred\n",
      "elaine\n",
      "dee\n",
      "carli\n",
      "ben\n",
      "ana\n"
     ]
    }
   ],
   "source": [
    "myList = [\"ana\", \"ben\", \"carli\", \"dee\", \"elaine\", \"fred\", \"gustas\"]\n",
    "\n",
    "for i in range(len(myList)):\n",
    "    print(myList[-1-i])"
   ]
  },
  {
   "cell_type": "markdown",
   "metadata": {},
   "source": [
    "#### step through a list of word 'Print' only the LAST letter of each word"
   ]
  },
  {
   "cell_type": "code",
   "execution_count": 6,
   "metadata": {},
   "outputs": [
    {
     "name": "stdout",
     "output_type": "stream",
     "text": [
      "a\n",
      "n\n",
      "i\n",
      "e\n",
      "e\n",
      "d\n",
      "s\n"
     ]
    }
   ],
   "source": [
    "myList = [\"ana\", \"ben\", \"carli\", \"dee\", \"elaine\", \"fred\", \"gustas\"]\n",
    "\n",
    "for i in range(len(myList)):\n",
    "    print(myList[i][-1])"
   ]
  },
  {
   "cell_type": "markdown",
   "metadata": {},
   "source": [
    "#### step through a list of word 'Print' a random letter of each word"
   ]
  },
  {
   "cell_type": "code",
   "execution_count": 7,
   "metadata": {},
   "outputs": [
    {
     "name": "stdout",
     "output_type": "stream",
     "text": [
      "a\n",
      "e\n",
      "l\n",
      "e\n",
      "n\n",
      "e\n",
      "s\n"
     ]
    }
   ],
   "source": [
    "myList = [\"ana\", \"ben\", \"carli\", \"dee\", \"elaine\", \"fred\", \"gustas\"]\n",
    "\n",
    "import random\n",
    "for i in range(len(myList)):\n",
    "    print(random.choice(myList[i]))"
   ]
  },
  {
   "cell_type": "markdown",
   "metadata": {},
   "source": [
    "#### use this list declaration to do the following:"
   ]
  },
  {
   "cell_type": "code",
   "execution_count": 8,
   "metadata": {},
   "outputs": [
    {
     "name": "stdout",
     "output_type": "stream",
     "text": [
      "[16, 13, 12, 15, 14, 12, 11, 20, 12, 19, 12, 12, 17, 12, 12]\n"
     ]
    }
   ],
   "source": [
    "temp = [16,13,12,15,14,12,11,20,12,19,12,12,17,12,12]\n",
    "print(temp)"
   ]
  },
  {
   "cell_type": "code",
   "execution_count": 9,
   "metadata": {},
   "outputs": [
    {
     "name": "stdout",
     "output_type": "stream",
     "text": [
      "[16, 13, 12, 15, 14, 12, 11, 20, 5, 12, 19, 12, 12, 17, 12, 12]\n"
     ]
    }
   ],
   "source": [
    "#add a 5 in between the 20 and the 12\n",
    "temp.insert(8,5)\n",
    "print(temp)"
   ]
  },
  {
   "cell_type": "code",
   "execution_count": 10,
   "metadata": {},
   "outputs": [
    {
     "name": "stdout",
     "output_type": "stream",
     "text": [
      "[16, 13, 12, 15, 14, 12, 11, 20, 5, 12, 19, 12, 12, 17, 12, 12, 7, 7, 7]\n"
     ]
    }
   ],
   "source": [
    "#add three 7s to the end of the list\n",
    "temp += [7,7,7]\n",
    "print(temp)"
   ]
  },
  {
   "cell_type": "code",
   "execution_count": 11,
   "metadata": {},
   "outputs": [
    {
     "name": "stdout",
     "output_type": "stream",
     "text": [
      "[16, 13, 12, 15, 14, 12, 20, 5, 12, 19, 12, 12, 17, 12, 12, 7, 7, 7]\n"
     ]
    }
   ],
   "source": [
    "#remove the 11\n",
    "temp.remove(11)\n",
    "print(temp)"
   ]
  },
  {
   "cell_type": "code",
   "execution_count": 12,
   "metadata": {},
   "outputs": [
    {
     "name": "stdout",
     "output_type": "stream",
     "text": [
      "[17, 13, 12, 15, 14, 12, 20, 5, 12, 19, 12, 12, 16, 12, 12, 7, 7, 7]\n"
     ]
    }
   ],
   "source": [
    "#swap the 16 with the 17\n",
    "temp.remove(16)\n",
    "temp.remove(17)\n",
    "temp.insert(11,16)\n",
    "temp.insert(0,17)\n",
    "print(temp)"
   ]
  },
  {
   "cell_type": "code",
   "execution_count": 13,
   "metadata": {},
   "outputs": [
    {
     "name": "stdout",
     "output_type": "stream",
     "text": [
      "[17, 13, 15, 14, 20, 5, 19, 16, 7, 7, 7]\n"
     ]
    }
   ],
   "source": [
    "#remove all occurences of 12\n",
    "while 12 in temp:\n",
    "    for i in temp:\n",
    "        if i == 12:\n",
    "            temp.remove(i)\n",
    "print(temp)"
   ]
  },
  {
   "cell_type": "markdown",
   "metadata": {},
   "source": [
    "## Strings"
   ]
  },
  {
   "cell_type": "code",
   "execution_count": 14,
   "metadata": {},
   "outputs": [
    {
     "data": {
      "text/plain": [
       "'abcdefghij'"
      ]
     },
     "execution_count": 14,
     "metadata": {},
     "output_type": "execute_result"
    }
   ],
   "source": [
    "#this would print the alphabet\n",
    "#adding the [] would allow you to chose the first number of the alphabet\n",
    "\n",
    "import string\n",
    "string.ascii_lowercase[:10]"
   ]
  },
  {
   "cell_type": "markdown",
   "metadata": {},
   "source": [
    "### Tasks"
   ]
  },
  {
   "cell_type": "code",
   "execution_count": 47,
   "metadata": {},
   "outputs": [
    {
     "name": "stdout",
     "output_type": "stream",
     "text": [
      "s\n"
     ]
    }
   ],
   "source": [
    "#choses a random letter from the alphabet\n",
    "import random\n",
    "letters = random.choice(string.ascii_lowercase)\n",
    "print(random.choice(letters))"
   ]
  },
  {
   "cell_type": "markdown",
   "metadata": {},
   "source": [
    "#### Count the frequency of that random letter in the word\n",
    "\n",
    "1) Chooses a random letter in the alphabet\n",
    "\n",
    "2) Counts the frequency of that random letter in the word\n",
    "\"PSEUDOPSEUDOHYPOPARATHYROIDISM\"\n",
    "\n",
    "3) The program should either\n",
    "\t\ttell the user that that random letter was not in the work\n",
    "\t\tor\n",
    "\t\tprint the letter and its frequency. \n",
    "\n",
    "e.g. If the random letter was P, the program should say: \"P appears 4 times in the word\"\n",
    "If the random letter was Q, the program should say: \"Q is not in the word\""
   ]
  },
  {
   "cell_type": "code",
   "execution_count": 12,
   "metadata": {},
   "outputs": [],
   "source": [
    "import random\n",
    "import string\n",
    "\n",
    "alphabet = \"ABCDEFGHIJKLMNOPQRSTUVWXYZ\"\n",
    "word = \"PSEUDOPSEUDOHYPOPARATHYROIDISM\"\n",
    "frequency = 0\n",
    "random = random.choice(alphabet)\n",
    "\n",
    "if random in word:\n",
    "    for letter in word:\n",
    "        if random == letter:\n",
    "            frequency += 1\n",
    "    print(random, frequency)\n",
    "    print(\"The random letter,\", random+ \", appears in the word PSEUDOPSEUDOHYPOPARATHYROIDISM\", frequency, \"times.\")"
   ]
  },
  {
   "cell_type": "markdown",
   "metadata": {},
   "source": [
    "#### Strong Password\n",
    "\n",
    "Write a function that creates a STRONG password for a user, given a simple word that the user enters. It used the following algorithm:\n",
    "\n",
    "1) Each I in the word is replaced with a 1\n",
    "\n",
    "2) Each S in the word is replaced with a 5\n",
    "\n",
    "3) The length of the word is appended to the end of the password.\n",
    "\n",
    "so, for example, 'SmilePlease' would be: '5m1lePlea5e11'"
   ]
  },
  {
   "cell_type": "code",
   "execution_count": 24,
   "metadata": {},
   "outputs": [
    {
     "name": "stdout",
     "output_type": "stream",
     "text": [
      "5mi1eP1ea5e 11\n"
     ]
    }
   ],
   "source": [
    "simple = \"SmilePlease\"\n",
    "strong = \"\"\n",
    "for i in simple:\n",
    "    if i == \"l\" or i == \"L\":\n",
    "        strong += \"1\"\n",
    "    elif i == \"s\" or i == \"S\":\n",
    "        strong += \"5\"\n",
    "    else:\n",
    "        strong += i \n",
    "print(strong,len(simple))"
   ]
  },
  {
   "cell_type": "markdown",
   "metadata": {},
   "source": [
    "## Slicing Lists"
   ]
  },
  {
   "cell_type": "code",
   "execution_count": 19,
   "metadata": {},
   "outputs": [],
   "source": [
    "#a[start:end:step]\n",
    "myList = ['ana', 'ben', 'carli', 'dee', 'elaine', 'fred', 'gustas']"
   ]
  },
  {
   "cell_type": "code",
   "execution_count": 28,
   "metadata": {},
   "outputs": [
    {
     "name": "stdout",
     "output_type": "stream",
     "text": [
      "['ana', 'ben', 'carli', 'dee', 'elaine', 'fred', 'gustas']\n"
     ]
    }
   ],
   "source": [
    "print(myList[0:7])"
   ]
  },
  {
   "cell_type": "code",
   "execution_count": 27,
   "metadata": {},
   "outputs": [
    {
     "name": "stdout",
     "output_type": "stream",
     "text": [
      "['ana', 'ben', 'carli', 'dee', 'elaine', 'fred', 'gustas']\n"
     ]
    }
   ],
   "source": [
    "#prints out the whole list starting from the first position\n",
    "print(myList[0:len(myList)])"
   ]
  },
  {
   "cell_type": "code",
   "execution_count": 21,
   "metadata": {},
   "outputs": [
    {
     "name": "stdout",
     "output_type": "stream",
     "text": [
      "['ben', 'carli', 'dee', 'elaine']\n"
     ]
    }
   ],
   "source": [
    "#prints out the second to fifth position\n",
    "print(myList[1:5])"
   ]
  },
  {
   "cell_type": "code",
   "execution_count": 22,
   "metadata": {},
   "outputs": [
    {
     "name": "stdout",
     "output_type": "stream",
     "text": [
      "['ana', 'ben', 'carli', 'dee', 'elaine', 'fred', 'gustas']\n"
     ]
    }
   ],
   "source": [
    "#prints out the whole list\n",
    "print(myList[:])"
   ]
  },
  {
   "cell_type": "code",
   "execution_count": 29,
   "metadata": {},
   "outputs": [
    {
     "name": "stdout",
     "output_type": "stream",
     "text": [
      "['elaine', 'dee']\n"
     ]
    }
   ],
   "source": [
    "#by itself returns an empty self, but adding a minus number would return a reverse list\n",
    "print(myList[4:2:-1])"
   ]
  },
  {
   "cell_type": "code",
   "execution_count": 33,
   "metadata": {},
   "outputs": [
    {
     "name": "stdout",
     "output_type": "stream",
     "text": [
      "['elaine']\n"
     ]
    }
   ],
   "source": [
    "#goes two spaces backwards to get to the fourth position\n",
    "print(myList[4:-2])"
   ]
  },
  {
   "cell_type": "code",
   "execution_count": 25,
   "metadata": {},
   "outputs": [
    {
     "name": "stdout",
     "output_type": "stream",
     "text": [
      "['gustas', 'fred', 'elaine', 'dee', 'carli', 'ben']\n"
     ]
    }
   ],
   "source": [
    "#prints the list backwards but removes the first position\n",
    "print(myList[len(myList):0:-1])"
   ]
  },
  {
   "cell_type": "code",
   "execution_count": 17,
   "metadata": {},
   "outputs": [
    {
     "name": "stdout",
     "output_type": "stream",
     "text": [
      "['gustas', 'fred', 'elaine', 'dee', 'carli', 'ben', 'ana']\n"
     ]
    }
   ],
   "source": [
    "#prints the whole list backwards\n",
    "print(myList[len(myList)::-1])"
   ]
  },
  {
   "cell_type": "markdown",
   "metadata": {},
   "source": [
    "### Tasks"
   ]
  },
  {
   "cell_type": "code",
   "execution_count": 2,
   "metadata": {},
   "outputs": [],
   "source": [
    "myList = ['ana,herrera', 'ben,ainslie', 'carli,simon', 'daniel,defoe', 'elaine,williams', 'fred,jones', 'george,gershwin,']"
   ]
  },
  {
   "cell_type": "code",
   "execution_count": 9,
   "metadata": {},
   "outputs": [
    {
     "name": "stdout",
     "output_type": "stream",
     "text": [
      "['herrera', 'ainslie', 'simon', 'defoe', 'williams', 'jones', 'gershwin']\n"
     ]
    }
   ],
   "source": [
    "#print out a list of the surnames\n",
    "newList1 = []\n",
    "\n",
    "for i in myList:\n",
    "    surname = i.split(\",\")\n",
    "    newList1.append(surname[1]) #['ana','herrera']\n",
    "print(newList1)"
   ]
  },
  {
   "cell_type": "code",
   "execution_count": 11,
   "metadata": {},
   "outputs": [
    {
     "name": "stdout",
     "output_type": "stream",
     "text": [
      "['ana', 'ben', 'carli', 'daniel', 'elaine', 'fred', 'george']\n"
     ]
    }
   ],
   "source": [
    "#print out a list of the first names\n",
    "newList2 = []\n",
    "\n",
    "for i in myList:\n",
    "    first = i.split(\",\")\n",
    "    newList2.append(first[0])\n",
    "print(newList2)"
   ]
  }
 ],
 "metadata": {
  "kernelspec": {
   "display_name": "Python 3",
   "language": "python",
   "name": "python3"
  },
  "language_info": {
   "codemirror_mode": {
    "name": "ipython",
    "version": 3
   },
   "file_extension": ".py",
   "mimetype": "text/x-python",
   "name": "python",
   "nbconvert_exporter": "python",
   "pygments_lexer": "ipython3",
   "version": "3.5.2"
  }
 },
 "nbformat": 4,
 "nbformat_minor": 2
}
