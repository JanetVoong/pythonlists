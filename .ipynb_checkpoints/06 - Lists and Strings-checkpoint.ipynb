{
 "cells": [
  {
   "cell_type": "markdown",
   "metadata": {},
   "source": [
    "random functions:\n",
    "- import random\n",
    "- random.choice\n",
    "- randint\n",
    "- randrange"
   ]
  },
  {
   "cell_type": "code",
   "execution_count": 1,
   "metadata": {},
   "outputs": [
    {
     "name": "stdout",
     "output_type": "stream",
     "text": [
      "ana\n",
      "ben\n",
      "carli\n",
      "dee\n",
      "elaine\n",
      "fred\n",
      "gustas\n"
     ]
    }
   ],
   "source": [
    "myList = [\"ana\", \"ben\", \"carli\", \"dee\", \"elaine\", \"fred\", \"gustas\"]\n",
    "\n",
    "#this will print out all of the elements in a list\n",
    "\n",
    "for i in range(len(myList)):\n",
    "    print(myList[i])"
   ]
  },
  {
   "cell_type": "code",
   "execution_count": 2,
   "metadata": {},
   "outputs": [
    {
     "name": "stdout",
     "output_type": "stream",
     "text": [
      "a\n",
      "b\n",
      "c\n",
      "d\n",
      "e\n",
      "f\n",
      "g\n"
     ]
    }
   ],
   "source": [
    "myList = [\"ana\", \"ben\", \"carli\", \"dee\", \"elaine\", \"fred\", \"gustas\"]\n",
    "\n",
    "#this will print out the first letter of each string in that list\n",
    "\n",
    "for i in range(len(myList)):\n",
    "    print(myList[i][0])"
   ]
  },
  {
   "cell_type": "code",
   "execution_count": 9,
   "metadata": {},
   "outputs": [
    {
     "name": "stdout",
     "output_type": "stream",
     "text": [
      "ana\n",
      "carli\n",
      "elaine\n",
      "gustas\n"
     ]
    }
   ],
   "source": [
    "#print values with EVEN array index values\n",
    "myList = [\"ana\", \"ben\", \"carli\", \"dee\", \"elaine\", \"fred\", \"gustas\"]\n",
    "\n",
    "for i in range(len(myList)):\n",
    "    if i%2 == 0:\n",
    "        print(myList[i])"
   ]
  },
  {
   "cell_type": "code",
   "execution_count": 15,
   "metadata": {},
   "outputs": [
    {
     "name": "stdout",
     "output_type": "stream",
     "text": [
      "elaine\n"
     ]
    }
   ],
   "source": [
    "#randomly pick one “box” and print its value\n",
    "import random\n",
    "myList = [\"ana\", \"ben\", \"carli\", \"dee\", \"elaine\", \"fred\", \"gustas\"]\n",
    "print(random.choice(myList))"
   ]
  },
  {
   "cell_type": "code",
   "execution_count": 41,
   "metadata": {},
   "outputs": [
    {
     "name": "stdout",
     "output_type": "stream",
     "text": [
      "gustas\n",
      "fred\n",
      "elaine\n",
      "dee\n",
      "carli\n",
      "ben\n",
      "ana\n"
     ]
    }
   ],
   "source": [
    "#use a for loop backwards to print a list backwards\n",
    "myList = [\"ana\", \"ben\", \"carli\", \"dee\", \"elaine\", \"fred\", \"gustas\"]\n",
    "\n",
    "for i in range(len(myList)):\n",
    "    print(myList[-1-i])"
   ]
  },
  {
   "cell_type": "code",
   "execution_count": 34,
   "metadata": {},
   "outputs": [
    {
     "name": "stdout",
     "output_type": "stream",
     "text": [
      "a\n",
      "n\n",
      "i\n",
      "e\n",
      "e\n",
      "d\n",
      "s\n"
     ]
    }
   ],
   "source": [
    "#step through a list of word 'Print' only the LAST letter of each word\n",
    "myList = [\"ana\", \"ben\", \"carli\", \"dee\", \"elaine\", \"fred\", \"gustas\"]\n",
    "\n",
    "for i in range(len(myList)):\n",
    "    print(myList[i][-1])"
   ]
  },
  {
   "cell_type": "code",
   "execution_count": 40,
   "metadata": {},
   "outputs": [
    {
     "name": "stdout",
     "output_type": "stream",
     "text": [
      "a\n",
      "b\n",
      "i\n",
      "d\n",
      "e\n",
      "r\n",
      "s\n"
     ]
    }
   ],
   "source": [
    "#step through a list of word 'Print' a random letter of each word\n",
    "myList = [\"ana\", \"ben\", \"carli\", \"dee\", \"elaine\", \"fred\", \"gustas\"]\n",
    "\n",
    "import random\n",
    "for i in range(len(myList)):\n",
    "    print(random.choice(myList[i]))"
   ]
  }
 ],
 "metadata": {
  "kernelspec": {
   "display_name": "Python 3",
   "language": "python",
   "name": "python3"
  },
  "language_info": {
   "codemirror_mode": {
    "name": "ipython",
    "version": 3
   },
   "file_extension": ".py",
   "mimetype": "text/x-python",
   "name": "python",
   "nbconvert_exporter": "python",
   "pygments_lexer": "ipython3",
   "version": "3.5.2"
  }
 },
 "nbformat": 4,
 "nbformat_minor": 2
}
