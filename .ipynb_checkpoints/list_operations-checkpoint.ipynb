{
 "cells": [
  {
   "cell_type": "markdown",
   "metadata": {},
   "source": [
    "len\n",
    "\n",
    "append / extend\n",
    "\n",
    "remove/ pop / del\n",
    "\n",
    "insert \n",
    "\n",
    "replace\n",
    "\n",
    "index / in / find\n",
    "\n",
    "choice"
   ]
  },
  {
   "cell_type": "code",
   "execution_count": 2,
   "metadata": {},
   "outputs": [
    {
     "name": "stdout",
     "output_type": "stream",
     "text": [
      "4\n"
     ]
    }
   ],
   "source": [
    "#len would measure the length of a variable\n",
    "\n",
    "letters = [\"a\",\"b\",\"c\",\"d\"]\n",
    "print(len(letters))"
   ]
  },
  {
   "cell_type": "code",
   "execution_count": 31,
   "metadata": {},
   "outputs": [
    {
     "name": "stdout",
     "output_type": "stream",
     "text": [
      "['a', 'b', 'c', 'd']\n",
      "append: ['a', 'b', 'c', 'd', 'x']\n",
      "extend: ['a', 'b', 'c', 'd', 'x', 'y']\n",
      "insert: ['a', 'b', 'z', 'c', 'd', 'x', 'y']\n"
     ]
    }
   ],
   "source": [
    "#append/extend adds a value to the end of a list\n",
    "\n",
    "letters = [\"a\",\"b\",\"c\",\"d\"]\n",
    "print(letters)\n",
    "letters.append(\"x\")\n",
    "print(\"append:\",letters)\n",
    "letters.extend(\"y\")\n",
    "print(\"extend:\",letters)\n",
    "\n",
    "#insert would add a value to a specific place in a list\n",
    "letters.insert(2,\"z\")\n",
    "print(\"insert:\",letters)"
   ]
  },
  {
   "cell_type": "code",
   "execution_count": 33,
   "metadata": {},
   "outputs": [
    {
     "name": "stdout",
     "output_type": "stream",
     "text": [
      "['a', 'b', 'c', 'd']\n",
      "remove: ['a', 'c', 'd']\n",
      "pop: ['a', 'c']\n"
     ]
    }
   ],
   "source": [
    "#remove would remove a given value from a list\n",
    "\n",
    "letters = [\"a\",\"b\",\"c\",\"d\"]\n",
    "print(letters)\n",
    "letters.remove(\"b\")\n",
    "print(\"remove:\",letters)\n",
    "\n",
    "#pop would remove a particular index value from a list\n",
    "letters.pop(2)\n",
    "print(\"pop:\",letters)"
   ]
  },
  {
   "cell_type": "code",
   "execution_count": 6,
   "metadata": {},
   "outputs": [
    {
     "name": "stdout",
     "output_type": "stream",
     "text": [
      "['a', 'b', 'c', 'd']\n"
     ]
    },
    {
     "ename": "AttributeError",
     "evalue": "'list' object has no attribute 'replace'",
     "output_type": "error",
     "traceback": [
      "\u001b[0;31m---------------------------------------------------------------------------\u001b[0m",
      "\u001b[0;31mAttributeError\u001b[0m                            Traceback (most recent call last)",
      "\u001b[0;32m<ipython-input-6-7f69f8089d2c>\u001b[0m in \u001b[0;36m<module>\u001b[0;34m()\u001b[0m\n\u001b[1;32m      2\u001b[0m \u001b[0mletters\u001b[0m \u001b[0;34m=\u001b[0m \u001b[0;34m[\u001b[0m\u001b[0;34m\"a\"\u001b[0m\u001b[0;34m,\u001b[0m\u001b[0;34m\"b\"\u001b[0m\u001b[0;34m,\u001b[0m\u001b[0;34m\"c\"\u001b[0m\u001b[0;34m,\u001b[0m\u001b[0;34m\"d\"\u001b[0m\u001b[0;34m]\u001b[0m\u001b[0;34m\u001b[0m\u001b[0m\n\u001b[1;32m      3\u001b[0m \u001b[0mprint\u001b[0m\u001b[0;34m(\u001b[0m\u001b[0mletters\u001b[0m\u001b[0;34m)\u001b[0m\u001b[0;34m\u001b[0m\u001b[0m\n\u001b[0;32m----> 4\u001b[0;31m \u001b[0mletters\u001b[0m\u001b[0;34m.\u001b[0m\u001b[0mreplace\u001b[0m\u001b[0;34m(\u001b[0m\u001b[0;34m[\u001b[0m\u001b[0;36m2\u001b[0m\u001b[0;34m]\u001b[0m\u001b[0;34m,\u001b[0m\u001b[0;34m\"w\"\u001b[0m\u001b[0;34m)\u001b[0m\u001b[0;34m\u001b[0m\u001b[0m\n\u001b[0m\u001b[1;32m      5\u001b[0m \u001b[0mprint\u001b[0m\u001b[0;34m(\u001b[0m\u001b[0mletters\u001b[0m\u001b[0;34m)\u001b[0m\u001b[0;34m\u001b[0m\u001b[0m\n",
      "\u001b[0;31mAttributeError\u001b[0m: 'list' object has no attribute 'replace'"
     ]
    }
   ],
   "source": [
    "#replace would replace a given value from a list to another value\n",
    "letters = [\"a\",\"b\",\"c\",\"d\"]\n",
    "print(letters)\n",
    "letters.replace([2],\"w\")\n",
    "print(letters)"
   ]
  },
  {
   "cell_type": "code",
   "execution_count": 8,
   "metadata": {},
   "outputs": [
    {
     "name": "stdout",
     "output_type": "stream",
     "text": [
      "['janet', 'latiff', 'dom']\n"
     ]
    }
   ],
   "source": [
    "name = [\"janet\", \"latiff\", \"dom\"]\n",
    "print(name)\n",
    "name.replace()"
   ]
  }
 ],
 "metadata": {
  "kernelspec": {
   "display_name": "Python 3",
   "language": "python",
   "name": "python3"
  },
  "language_info": {
   "codemirror_mode": {
    "name": "ipython",
    "version": 3
   },
   "file_extension": ".py",
   "mimetype": "text/x-python",
   "name": "python",
   "nbconvert_exporter": "python",
   "pygments_lexer": "ipython3",
   "version": "3.5.2"
  }
 },
 "nbformat": 4,
 "nbformat_minor": 2
}
