{
 "cells": [
  {
   "cell_type": "markdown",
   "metadata": {},
   "source": [
    "len\n",
    "\n",
    "append / extend\n",
    "\n",
    "remove/ pop / del\n",
    "\n",
    "insert \n",
    "\n",
    "replace\n",
    "\n",
    "index / in / find\n",
    "\n",
    "choice"
   ]
  },
  {
   "cell_type": "code",
   "execution_count": 2,
   "metadata": {},
   "outputs": [
    {
     "name": "stdout",
     "output_type": "stream",
     "text": [
      "4\n"
     ]
    }
   ],
   "source": [
    "#len would measure the length of a variable\n",
    "\n",
    "letters = [\"a\",\"b\",\"c\",\"d\"]\n",
    "print(len(letters))"
   ]
  },
  {
   "cell_type": "code",
   "execution_count": 2,
   "metadata": {},
   "outputs": [
    {
     "name": "stdout",
     "output_type": "stream",
     "text": [
      "original: ['a', 'b', 'c', 'd']\n",
      "append: ['a', 'b', 'c', 'd', 'x']\n",
      "extend: ['a', 'b', 'c', 'd', 'x', 'y']\n",
      "insert: ['a', 'b', 'z', 'c', 'd', 'x', 'y']\n"
     ]
    }
   ],
   "source": [
    "#append/extend adds a value to the end of a list\n",
    "\n",
    "letters = [\"a\",\"b\",\"c\",\"d\"]\n",
    "print(\"original:\",letters)\n",
    "letters.append(\"x\")\n",
    "print(\"append:\",letters)\n",
    "letters.extend(\"y\")\n",
    "print(\"extend:\",letters)\n",
    "\n",
    "#insert would add a value to a specific place in a list\n",
    "letters.insert(2,\"z\")\n",
    "print(\"insert:\",letters)"
   ]
  },
  {
   "cell_type": "code",
   "execution_count": 3,
   "metadata": {},
   "outputs": [
    {
     "name": "stdout",
     "output_type": "stream",
     "text": [
      "original: ['a', 'b', 'c', 'd']\n",
      "remove: ['a', 'c', 'd']\n",
      "pop: ['a', 'c']\n"
     ]
    }
   ],
   "source": [
    "#remove would remove a given value from a list\n",
    "\n",
    "letters = [\"a\",\"b\",\"c\",\"d\"]\n",
    "print(\"original:\",letters)\n",
    "letters.remove(\"b\")\n",
    "print(\"remove:\",letters)\n",
    "\n",
    "#pop would remove a particular index value from a list\n",
    "letters.pop(2)\n",
    "print(\"pop:\",letters)"
   ]
  },
  {
   "cell_type": "code",
   "execution_count": 6,
   "metadata": {},
   "outputs": [
    {
     "name": "stdout",
     "output_type": "stream",
     "text": [
      "original: I like flowers\n",
      "replace: I hate flowers\n"
     ]
    }
   ],
   "source": [
    "#replace would replace a word in a string with another word of choice\n",
    "sentence = \"I like flowers\"\n",
    "print(\"original:\",sentence)\n",
    "sentence = sentence.replace(\"like\",\"hate\")\n",
    "print(\"replace:\",sentence)"
   ]
  },
  {
   "cell_type": "code",
   "execution_count": 16,
   "metadata": {},
   "outputs": [
    {
     "name": "stdout",
     "output_type": "stream",
     "text": [
      "the index of 'b' is: 1\n"
     ]
    }
   ],
   "source": [
    "#index would show the index of a value in the list\n",
    "letters = [\"a\",\"b\",\"c\",\"d\"]\n",
    "print(\"the index of 'b' is:\", letters.index(\"b\"))"
   ]
  },
  {
   "cell_type": "code",
   "execution_count": 5,
   "metadata": {},
   "outputs": [
    {
     "name": "stdout",
     "output_type": "stream",
     "text": [
      "['a', 'b', 'c', 'd']\n",
      "['a', 'b', 'w', 'd']\n",
      "janet is a dog\n"
     ]
    }
   ],
   "source": [
    "#replace would replace a word in a string with another word of choice\n",
    "letters = [\"a\",\"b\",\"c\",\"d\"]\n",
    "print(letters)\n",
    "letters[2] = \"w\"\n",
    "print(letters)\n",
    "B = \"janet is a god\"\n",
    "B = B.replace(\"god\",\"dog\")\n",
    "print(B)"
   ]
  }
 ],
 "metadata": {
  "kernelspec": {
   "display_name": "Python 3",
   "language": "python",
   "name": "python3"
  },
  "language_info": {
   "codemirror_mode": {
    "name": "ipython",
    "version": 3
   },
   "file_extension": ".py",
   "mimetype": "text/x-python",
   "name": "python",
   "nbconvert_exporter": "python",
   "pygments_lexer": "ipython3",
   "version": "3.5.2"
  }
 },
 "nbformat": 4,
 "nbformat_minor": 2
}
